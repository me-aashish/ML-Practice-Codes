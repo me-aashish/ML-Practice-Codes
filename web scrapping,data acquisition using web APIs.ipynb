{
 "cells": [
  {
   "cell_type": "code",
   "execution_count": 1,
   "id": "4ceb6108",
   "metadata": {},
   "outputs": [],
   "source": [
    "from urllib.request import urlopen"
   ]
  },
  {
   "cell_type": "code",
   "execution_count": 2,
   "id": "c54b98cc",
   "metadata": {},
   "outputs": [],
   "source": [
    "api_url = 'https://api.openweathermap.org/data/2.5/weather?lat=44.34&lon=10.99&appid=##'"
   ]
  },
  {
   "cell_type": "code",
   "execution_count": 3,
   "id": "a4642458",
   "metadata": {},
   "outputs": [
    {
     "name": "stdout",
     "output_type": "stream",
     "text": [
      "<http.client.HTTPResponse object at 0x0000017186C17C40>\n"
     ]
    }
   ],
   "source": [
    "url_result = urlopen(api_url)\n",
    "print(url_result)"
   ]
  },
  {
   "cell_type": "code",
   "execution_count": 4,
   "id": "3da5b8ca",
   "metadata": {},
   "outputs": [
    {
     "data": {
      "text/plain": [
       "bytes"
      ]
     },
     "execution_count": 4,
     "metadata": {},
     "output_type": "execute_result"
    }
   ],
   "source": [
    "url_result_data = url_result.read();\n",
    "type(url_result_data)"
   ]
  },
  {
   "cell_type": "code",
   "execution_count": 5,
   "id": "0d260846",
   "metadata": {},
   "outputs": [],
   "source": [
    "import json"
   ]
  },
  {
   "cell_type": "code",
   "execution_count": 6,
   "id": "06feadac",
   "metadata": {},
   "outputs": [
    {
     "data": {
      "text/plain": [
       "b'{\"coord\":{\"lon\":10.99,\"lat\":44.34},\"weather\":[{\"id\":800,\"main\":\"Clear\",\"description\":\"clear sky\",\"icon\":\"01n\"}],\"base\":\"stations\",\"main\":{\"temp\":268.61,\"feels_like\":268.61,\"temp_min\":265.56,\"temp_max\":270.16,\"pressure\":1037,\"humidity\":63,\"sea_level\":1037,\"grnd_level\":944},\"visibility\":10000,\"wind\":{\"speed\":1.13,\"deg\":258,\"gust\":1.3},\"clouds\":{\"all\":1},\"dt\":1676002791,\"sys\":{\"type\":2,\"id\":2075663,\"country\":\"IT\",\"sunrise\":1676010226,\"sunset\":1676047014},\"timezone\":3600,\"id\":3163858,\"name\":\"Zocca\",\"cod\":200}'"
      ]
     },
     "execution_count": 6,
     "metadata": {},
     "output_type": "execute_result"
    }
   ],
   "source": [
    "url_result_data"
   ]
  },
  {
   "cell_type": "code",
   "execution_count": 10,
   "id": "94543dfa",
   "metadata": {},
   "outputs": [
    {
     "name": "stdout",
     "output_type": "stream",
     "text": [
      "<class 'dict'> {'coord': {'lon': 10.99, 'lat': 44.34}, 'weather': [{'id': 800, 'main': 'Clear', 'description': 'clear sky', 'icon': '01n'}], 'base': 'stations', 'main': {'temp': 268.61, 'feels_like': 268.61, 'temp_min': 265.56, 'temp_max': 270.16, 'pressure': 1037, 'humidity': 63, 'sea_level': 1037, 'grnd_level': 944}, 'visibility': 10000, 'wind': {'speed': 1.13, 'deg': 258, 'gust': 1.3}, 'clouds': {'all': 1}, 'dt': 1676002791, 'sys': {'type': 2, 'id': 2075663, 'country': 'IT', 'sunrise': 1676010226, 'sunset': 1676047014}, 'timezone': 3600, 'id': 3163858, 'name': 'Zocca', 'cod': 200}\n"
     ]
    }
   ],
   "source": [
    "#byte object into json\n",
    "json_data = json.loads(url_result_data)\n",
    "print(type(json_data),json_data)"
   ]
  },
  {
   "cell_type": "code",
   "execution_count": 12,
   "id": "89329dd7",
   "metadata": {},
   "outputs": [
    {
     "data": {
      "text/plain": [
       "{'lon': 10.99, 'lat': 44.34}"
      ]
     },
     "execution_count": 12,
     "metadata": {},
     "output_type": "execute_result"
    }
   ],
   "source": [
    "json_data['coord']"
   ]
  },
  {
   "cell_type": "code",
   "execution_count": 14,
   "id": "12dd3f36",
   "metadata": {},
   "outputs": [
    {
     "name": "stdout",
     "output_type": "stream",
     "text": [
      "<class 'str'> {\"coord\": {\"lon\": 10.99, \"lat\": 44.34}, \"weather\": [{\"id\": 800, \"main\": \"Clear\", \"description\": \"clear sky\", \"icon\": \"01n\"}], \"base\": \"stations\", \"main\": {\"temp\": 268.61, \"feels_like\": 268.61, \"temp_min\": 265.56, \"temp_max\": 270.16, \"pressure\": 1037, \"humidity\": 63, \"sea_level\": 1037, \"grnd_level\": 944}, \"visibility\": 10000, \"wind\": {\"speed\": 1.13, \"deg\": 258, \"gust\": 1.3}, \"clouds\": {\"all\": 1}, \"dt\": 1676002791, \"sys\": {\"type\": 2, \"id\": 2075663, \"country\": \"IT\", \"sunrise\": 1676010226, \"sunset\": 1676047014}, \"timezone\": 3600, \"id\": 3163858, \"name\": \"Zocca\", \"cod\": 200}\n"
     ]
    }
   ],
   "source": [
    "#json to string\n",
    "json_String = json.dumps(json_data)\n",
    "print(type(json_String),json_String)"
   ]
  },
  {
   "cell_type": "code",
   "execution_count": 15,
   "id": "2e8762f6",
   "metadata": {},
   "outputs": [],
   "source": [
    "#using request library\n",
    "import requests"
   ]
  },
  {
   "cell_type": "code",
   "execution_count": 16,
   "id": "555f31f3",
   "metadata": {},
   "outputs": [],
   "source": [
    "url = 'https://maps.googleapis.com/map/api/geocode/json?'"
   ]
  },
  {
   "cell_type": "code",
   "execution_count": 17,
   "id": "1754bf09",
   "metadata": {},
   "outputs": [],
   "source": [
    "parameters = {\n",
    "    \"address\" : \"cu\"\n",
    "}"
   ]
  },
  {
   "cell_type": "code",
   "execution_count": 18,
   "id": "a02b0b79",
   "metadata": {},
   "outputs": [
    {
     "data": {
      "text/plain": [
       "'https://maps.googleapis.com/map/api/geocode/json?address=cu'"
      ]
     },
     "execution_count": 18,
     "metadata": {},
     "output_type": "execute_result"
    }
   ],
   "source": [
    "r = requests.get(url,params = parameters)\n",
    "r.url"
   ]
  },
  {
   "cell_type": "code",
   "execution_count": 19,
   "id": "6524e5fa",
   "metadata": {},
   "outputs": [
    {
     "data": {
      "text/plain": [
       "404"
      ]
     },
     "execution_count": 19,
     "metadata": {},
     "output_type": "execute_result"
    }
   ],
   "source": [
    "r.status_code"
   ]
  },
  {
   "cell_type": "code",
   "execution_count": 20,
   "id": "87c3fd05",
   "metadata": {},
   "outputs": [
    {
     "data": {
      "text/plain": [
       "'<!DOCTYPE html>\\n<html lang=en>\\n  <meta charset=utf-8>\\n  <meta name=viewport content=\"initial-scale=1, minimum-scale=1, width=device-width\">\\n  <title>Error 404 (Not Found)!!1</title>\\n  <style>\\n    *{margin:0;padding:0}html,code{font:15px/22px arial,sans-serif}html{background:#fff;color:#222;padding:15px}body{margin:7% auto 0;max-width:390px;min-height:180px;padding:30px 0 15px}* > body{background:url(//www.google.com/images/errors/robot.png) 100% 5px no-repeat;padding-right:205px}p{margin:11px 0 22px;overflow:hidden}ins{color:#777;text-decoration:none}a img{border:0}@media screen and (max-width:772px){body{background:none;margin-top:0;max-width:none;padding-right:0}}#logo{background:url(//www.google.com/images/branding/googlelogo/1x/googlelogo_color_150x54dp.png) no-repeat;margin-left:-5px}@media only screen and (min-resolution:192dpi){#logo{background:url(//www.google.com/images/branding/googlelogo/2x/googlelogo_color_150x54dp.png) no-repeat 0% 0%/100% 100%;-moz-border-image:url(//www.google.com/images/branding/googlelogo/2x/googlelogo_color_150x54dp.png) 0}}@media only screen and (-webkit-min-device-pixel-ratio:2){#logo{background:url(//www.google.com/images/branding/googlelogo/2x/googlelogo_color_150x54dp.png) no-repeat;-webkit-background-size:100% 100%}}#logo{display:inline-block;height:54px;width:150px}\\n  </style>\\n  <a href=//www.google.com/><span id=logo aria-label=Google></span></a>\\n  <p><b>404.</b> <ins>That’s an error.</ins>\\n  <p>The requested URL <code>/map/api/geocode/json?address=cu</code> was not found on this server.  <ins>That’s all we know.</ins>\\n'"
      ]
     },
     "execution_count": 20,
     "metadata": {},
     "output_type": "execute_result"
    }
   ],
   "source": [
    "r."
   ]
  },
  {
   "cell_type": "code",
   "execution_count": 41,
   "id": "01ac27e4",
   "metadata": {},
   "outputs": [],
   "source": [
    "#facebook api\n",
    "#dp scraping\n",
    "url = 'http://graph.facebook.com/10/picture?type=large'"
   ]
  },
  {
   "cell_type": "code",
   "execution_count": 42,
   "id": "72ec50be",
   "metadata": {},
   "outputs": [],
   "source": [
    "r = requests.get(url)"
   ]
  },
  {
   "cell_type": "code",
   "execution_count": 43,
   "id": "68cdccd6",
   "metadata": {},
   "outputs": [
    {
     "data": {
      "text/plain": [
       "b'\\xff\\xd8\\xff\\xe0\\x00\\x10JFIF\\x00\\x01\\x01\\x00\\x00\\x01\\x00\\x01\\x00\\x00\\xff\\xed\\x00\\x9cPhotoshop 3.0\\x008BIM\\x04\\x04\\x00\\x00\\x00\\x00\\x00\\x80\\x1c\\x02g\\x00\\x14Oo_4h-UroqduidscdVKp\\x1c\\x02(\\x00bFBMD0a000a820100009c0200006d03000090030000c30300004804000037050000e10500001f06000074060000ef070000\\xff\\xdb\\x00C\\x00\\x06\\x04\\x05\\x06\\x05\\x04\\x06\\x06\\x05\\x06\\x07\\x07\\x06\\x08\\n\\x10\\n\\n\\t\\t\\n\\x14\\x0e\\x0f\\x0c\\x10\\x17\\x14\\x18\\x18\\x17\\x14\\x16\\x16\\x1a\\x1d%\\x1f\\x1a\\x1b#\\x1c\\x16\\x16 , #&\\')*)\\x19\\x1f-0-(0%()(\\xff\\xdb\\x00C\\x01\\x07\\x07\\x07\\n\\x08\\n\\x13\\n\\n\\x13(\\x1a\\x16\\x1a((((((((((((((((((((((((((((((((((((((((((((((((((\\xff\\xc2\\x00\\x11\\x08\\x00\\xc8\\x00\\xc8\\x03\\x01\"\\x00\\x02\\x11\\x01\\x03\\x11\\x01\\xff\\xc4\\x00\\x1a\\x00\\x01\\x01\\x01\\x01\\x01\\x01\\x01\\x00\\x00\\x00\\x00\\x00\\x00\\x00\\x00\\x00\\x00\\x04\\x05\\x01\\x03\\x02\\x06\\xff\\xc4\\x00\\x15\\x01\\x01\\x01\\x00\\x00\\x00\\x00\\x00\\x00\\x00\\x00\\x00\\x00\\x00\\x00\\x00\\x00\\x00\\x01\\xff\\xda\\x00\\x0c\\x03\\x01\\x00\\x02\\x10\\x03\\x10\\x00\\x00\\x01\\xfd\\xc8\\xb0\\x00\\x00\\x00\\x00\\x00\\x00\\x00\\x00\\x00\\x00\\x00\\x01\\xdf\\xadB*)G\\x97\\xcf\\xb9r|\\xb6#\\xb27x\\x00\\x00\\x00\\x00\\x00\\x03\\xd4\\xd0\\xf6%\\x00\\x00\\'\\xcc\\xdb\\xc8\\xb3\\xcc\\x00\\x00\\x00\\x00\\x00\\xaeKK\\x84\\xa0\\x00\\x03/S1\\'\\x14\\x00\\x00\\x00\\x00\\n\\xe4\\xbc\\xb0J\\x00\\x002\\xb5s\\xd2A@\\x00\\x00\\x00\\x00\\xd5\\xca\\xd1*\\x12\\x80\\x00\\t\\xa9\\x89!\\x14\\x00\\x00\\x00\\x00\\x0f\\xbf\\x81\\xb3\\xf5-R\\x80\\x00\\x1eYu\\xc5`\\x00\\x00\\x00\\x00\\x00\\x07\\xb6\\xae%\\xe5\\x82P\\x1c\\xecD\\xbee\\x80\\x00\\x00\\x00\\x00\\x00\\x0b\\xa1\\xd2)\\x12\\x80\\x8a\\xd9\\x8c\\xd1`\\x00\\x00\\x00\\x00\\x00}\\xdaK\\xa9\\xd4\\xa0\\x00\\xe7FW\\x8e\\xdc\\x96g\\xbe\\xfe\\x00\\x00\\x00\\x01a-\\xb5\\xf69\\xd1@\\x00\\x00\\x00\\xe4\\x96\\x0co\\x9d\\xa8l\\x8c\\x00>\\xbetOObP\\x00\\x00\\x00\\x00\\x00\\x00<s6eL\\xe1]\\xd9\\x0e\\x89@\\x00\\x00\\x00\\x00\\x00\\x00p1\\x85\\x9f\\xff\\xc4\\x00%\\x10\\x00\\x02\\x01\\x02\\x06\\x02\\x02\\x03\\x00\\x00\\x00\\x00\\x00\\x00\\x00\\x00\\x01\\x02\\x03\\x000\\x04\\x11\\x12 !@\"3\\x102\\x131P\\xff\\xda\\x00\\x08\\x01\\x01\\x00\\x01\\x05\\x02\\xfe\\xe2\\xc2M\\x08V\\xbf\\x1a\\xd1\\x89M:\\x14=$]E\\x14(\\xd8\\xeb\\xa9L\\x06\\x8f\\x1d\\x18\\x97J\\xef\\x995\\x0b\\xf1\\x8c\\xde\\xcb\\x8c\\x9e\\xf6\\x1f\\xedfoe\\xec7\\xee\\xcc\\xfe\\xcb\\xd8\\x7f\\xb5\\x99\\xbd\\x97\\xa0KS\\xa6W\\xe2\\xf5\\xd9\\xc4}/a\\xcf\\x8d\\x9cA\\xbe\\xacT\\xa9\\xd4\\xbb\\xe4m*Nf\\xfe\\x1c\\xf8o\\xc4\\x9e\\x8cM\\xa5\\xb7\\x1e\\x03\\xb6\\xa6\\xe8\\xe1\\xc9\\xdd\\x89\\xe9\\xe1\\xb7bzxq\\xe1\\xb7\\x10<:1\\xa1r8\\x1bO\"D(o*\\x96\\xa4\\x86\\xd3\\xc3L\\xa5m\\x80M$48\\xb8y\\xa7\\x86\\x88\"\\xc2C@\\x01\\xd0 \\x1axv\\x81\\x99\\x8e0\\xbdI#\\rDd~ \\\\\\x87Vu\\xcc|\\x0e\\x07T\\xf2+\\xff\\xc4\\x00\\x14\\x11\\x01\\x00\\x00\\x00\\x00\\x00\\x00\\x00\\x00\\x00\\x00\\x00\\x00\\x00\\x00\\x00p\\xff\\xda\\x00\\x08\\x01\\x03\\x01\\x01?\\x01)\\xff\\xc4\\x00\\x16\\x11\\x00\\x03\\x00\\x00\\x00\\x00\\x00\\x00\\x00\\x00\\x00\\x00\\x00\\x00\\x00\\x00\\x010p\\xff\\xda\\x00\\x08\\x01\\x02\\x01\\x01?\\x01\\x8e\\x16\\xff\\x00\\xff\\xc4\\x00#\\x10\\x00\\x01\\x04\\x01\\x04\\x02\\x03\\x01\\x00\\x00\\x00\\x00\\x00\\x00\\x00\\x00\\x01\\x00\\x11!0@ \"Qa\\x12A\\x101P2\\xff\\xda\\x00\\x08\\x01\\x01\\x00\\x06?\\x02\\xfd\\xc9\\x85\\xca\\xfeB\\xfa\\xc4`\\xa3K(8]\\xd0\\xfe\\xf0\\x05F\\xf3Q\\xbc\\xd4o5\\x1b\\xfc\\xaa\\xf2\\xbcd\\xb5@^\\xe1\\x03C\\xa78\\r\\xc5\\x00`\\xf5C\\xe1\\x11\\xebP\\xe3\\x0c\\xea\\x1f\\x97\\xd5\\x1d_\\x0bu[T\\xd7\\x0br\\x8b%mSF\\xe5\\x18\\x12\\xb6\\xe9`\\xbb\\xc4\\xed1\\xf9~q\\x9f\\x8c\\xbf\\xff\\xc4\\x00$\\x10\\x01\\x00\\x01\\x03\\x04\\x02\\x02\\x03\\x01\\x00\\x00\\x00\\x00\\x00\\x00\\x00\\x01\\x11\\x00!10@AQ a\\x10\\xb1Pq\\x81\\xa1\\xff\\xda\\x00\\x08\\x01\\x01\\x00\\x01?!\\xfc\\xd8+\\x01-e\\xa5\\x03\\x99\\xfe\\xbe\\x10\\xee\\x1f\\xaa\\x8878viY\\n\\x1f\\xdf\\x10eD3zh*\\x12\\x1d\\x8c\\x7fk\\xba\\x16\\x16\\x1b\\x08\\xf7\\x19\\xd2\\x8a\\xfb\\xd77\\xba?\\x07\\x8f\\xf8\\x8dwk\\xd6\\x92\\x9d~\\x00\\x9d\\xde4\\xa5A\\xcb}w?\\xafK\\xed\\xd7\\x99\\xf2\\x1d/\\xbb\\xd8L\\xf7\\x86\\x869-3dv\\x12.\\xcd\\x0f\\xb2\\xd8\\xdd\\xdc\\xac\\xd1\\x7f$\"\\xe0\\xa9-\\x91\\xc2a\\x8f$\\xdb7l\\xc5\\x9f\\x90\\xb3\\xd9\\xc1>\\xdf)\\'\\xd3\\xb2\\xe9\\x1c\\x9a\\x00\\x06\\x0f  \\xe1\\xae\\xd1\\xc1\\xd7B\\x0c\\xd0\\x97R\\xf5A\\x04\\x18\\xd0I!\\xc5\\x0bu\\x0fT\\x84\\x18\\xd3v\\x0c\\xb4%\\xdc\\xfa(\\x02\\x04\\x1a\\x80\\x10$\\xa1n\\xe3\\xd3N\\xc1\\x87\\xcc\\xbe)\\x9b\\xdb\\xea\\x89\\x81\\x06\\xc0\\x98\\x12S\\x17\\xbf\\xd56\\xcf\\x83\\x15\\xc5\\xa0{\\xef\\xb4\\x07\\xae\\xf4\\xcda>o\\xbc\\xfd6\\xd6\\xde~\\x01(wB\\x00\\xe3l$\\x1ei!N\\xab\\xff\\xda\\x00\\x0c\\x03\\x01\\x00\\x02\\x00\\x03\\x00\\x00\\x00\\x10\\xfb\\xef\\xbe\\xfb\\xef\\xbe\\xfb\\xef\\xbe\\xfb\\xef\\xbe\\xfa\\xef\\xecWo\\xbe\\xfb\\xef\\xbe\\xfb\\xa7<\\xf3\\xc6~\\xfb\\xef\\xbe\\xfb\\xea\\xbc\\xf3\\xcf;\\xfb\\xef\\xbe\\xfb\\xef\\xbe\\xf3\\xcf<\\xff\\x00\\xef\\xbe\\xfb\\xef\\xbe\\xe7\\xcf<\\xf2\\xbf\\xbe\\xfb\\xef\\xbe\\xfb\\xe7<\\xf3\\xcb~\\xfb\\xef\\xbe\\xfb\\xef\\x99\\xf3\\xce\\x1e\\xfb\\xef\\xbe\\xfb\\xef\\xbe\\xf3\\xcf>\\xfb\\xef\\xbe\\xfb\\xef\\xbe\\xc9o<\\xf1\\x1d\\xbe\\xfb\\xef\\xbe\\x9f\\xcf<\\xf3\\xcf,\\xd7\\xef\\xaas\\xcf<\\xf3\\xcf<\\xf3\\xc2\\xfew\\xcf<\\xf3\\xcf<\\xf3\\xcf<\\x0b\\xff\\xc4\\x00\\x1a\\x11\\x00\\x02\\x03\\x01\\x01\\x00\\x00\\x00\\x00\\x00\\x00\\x00\\x00\\x00\\x00\\x00\\x010\\x10\\x11 \\x00@\\xff\\xda\\x00\\x08\\x01\\x03\\x01\\x01?\\x10\\xf0\\x81\\xd5\\x14\\xe2\\x81\\x92\\x81\\x92\\x81\\x92\\xd2\\x90\\xd1%5\\x9a\\xdd\"\\xa4,\\xc0o\\xff\\xc4\\x00\\x1b\\x11\\x01\\x00\\x03\\x01\\x01\\x01\\x01\\x00\\x00\\x00\\x00\\x00\\x00\\x00\\x00\\x00\\x01\\x11 0\\x00\\x101@\\xff\\xda\\x00\\x08\\x01\\x02\\x01\\x01?\\x10\\xfc+\\x1d=<;\\x18?*`\\xd4\\xc1\\xa9\\x8bC\\x14\\xf4\\xc9\\xf4\\xc6yf\\x83i\\xe5\\xbc\\xf0\\xfa\\xb1\\x98\\xee\\xff\\xc4\\x00*\\x10\\x01\\x00\\x01\\x02\\x04\\x05\\x03\\x05\\x01\\x01\\x00\\x00\\x00\\x00\\x00\\x00\\x01\\x11\\x001!0AQ @a\\x81\\xa1q\\xc1\\xf0\\x10\\x91\\xb1\\xd1\\xe1\\xf1P\\xff\\xda\\x00\\x08\\x01\\x01\\x00\\x01?\\x10\\xff\\x00\\xb6iI`%\\xa8\\xa4\\x1d\\xae\\xd6\\xbb\\xba\\xc3\\xf1A\\xdb\\xb8M$\\twQW\\x8a\\xd8\\xd7\\x93\\x19\\xea.\\x81Wr\\xd5]\\xe1p\\xe2q\\x1d\\x9a`\\x8b\\xd8\\x8aR\\xe0\\xc1\\x1eD$\\x1f\\x122\\rG\\x0eH\\xd4\\xdb\\x90\\x9a\\xc9\\x94\\xbd\\x0cr\\x80\\x1c\\x01G\\xa5\\xf3\\xe4\\xf9\\x15\\xca1\\xd5\\x07\\xc6\\x7f\\x86{\\xe5|\\x06\\xd9\\xf1n\\xa7\\xe7\\xfb\\x95\\xe8\\x04<\\x19\\xf2\\xf3\\x81\\r\\x11\\x95$\\xc4\\xc2:9\\xf3\\x1d\\xa1\\xe7)\\xc1\\xeas\\xc56\\xeb\\xb3\\xf1\\xca<\\x07\\x1b\\xff\\x00\\x07\\xbey\\x85\\xc6\\xc8\\xd9(\\x85\"\\x13\\x1bdI\\x81 \\x02\\xebO\\xc4\\xde\\xe4\\'\\x8b\\xf8\\x1c\\x7fy\\x18\\xa3\\xd5\\xfe\\x0f~F\\x1b\\xe0\\x18\\xd2\\x00\\x88\\x8e\"q*`\\x12\\xad2\\xf8\\x0e\\x01\\xb1\\xa7$\\x83L,\\xb4\\x99\\xe2\\x18(\\x91M\\xd3\\x93\\xf5\\xb2\\x1e8\\xbd\\x0c\\xa7\\x8eO\\x13\\x17\\x9e\\xd6\\xf6\\xe2\\xc0\\xc5\\xa7\\xb5\\xbd\\xf9 \\x10\"\\xff\\x00\\x8fZ\\x10\\xe0 8\\x849\\x08JA\"\\xaf\\xfa\\xf5\\xcf\\x92\\x95\\xab\\xa1\\xde\\xa0\\xfa)o\\xed\\x01\\x00\\x0b\\x06@0\\n\\xb8\\xd4\\x9fU-\\xfc\\xa9)Z:=\\xf2\\xe7w\\xa5\\xa5@Hv\\xbe\\xf4$\\x01`#1H\\x12\\xe2MHHv\\xbe\\xf5;\\xbdmx\\xc2\\x80*\\xd85\\xa8GF\\xdb\\xf7hI\\xc3C\\x90Rt\\xd1\\xa9FF\\xfb\\xf6h)\\x02%\\xc7N\\x01\\xa2T\\x05\\x12Xk\\xfe\\x9c\\xa3$\\x82\\xb7\\xedCD\\xa8O\\xa9Cmt\\xe5\\x85\\r\\xbd\\xd4\\xfa1\\x97PP\\xd8@\\x0eXl \\x8d3\\x97P\\xd7\\xff\\xd9'"
      ]
     },
     "execution_count": 43,
     "metadata": {},
     "output_type": "execute_result"
    }
   ],
   "source": [
    "r.content"
   ]
  },
  {
   "cell_type": "code",
   "execution_count": 44,
   "id": "fca48d31",
   "metadata": {},
   "outputs": [],
   "source": [
    "with open('sample_scrapped_picture.jpg','wb') as f:\n",
    "    f.write(r.content)"
   ]
  },
  {
   "cell_type": "code",
   "execution_count": null,
   "id": "85de137d",
   "metadata": {},
   "outputs": [],
   "source": []
  }
 ],
 "metadata": {
  "kernelspec": {
   "display_name": "Python 3 (ipykernel)",
   "language": "python",
   "name": "python3"
  },
  "language_info": {
   "codemirror_mode": {
    "name": "ipython",
    "version": 3
   },
   "file_extension": ".py",
   "mimetype": "text/x-python",
   "name": "python",
   "nbconvert_exporter": "python",
   "pygments_lexer": "ipython3",
   "version": "3.8.0"
  }
 },
 "nbformat": 4,
 "nbformat_minor": 5
}
