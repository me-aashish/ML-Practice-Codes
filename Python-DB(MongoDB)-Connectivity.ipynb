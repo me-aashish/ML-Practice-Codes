{
 "cells": [
  {
   "cell_type": "code",
   "execution_count": 7,
   "id": "b88eca2d",
   "metadata": {},
   "outputs": [
    {
     "data": {
      "text/plain": [
       "MongoClient(host=['localhost:27017'], document_class=dict, tz_aware=False, connect=True)"
      ]
     },
     "execution_count": 7,
     "metadata": {},
     "output_type": "execute_result"
    }
   ],
   "source": [
    "import pymongo\n",
    "client_local = pymongo.MongoClient(\"mongodb://localhost:27017\")\n",
    "client_local"
   ]
  },
  {
   "cell_type": "code",
   "execution_count": 5,
   "id": "53bf3957",
   "metadata": {},
   "outputs": [],
   "source": [
    "client_cloud = pymongo.MongoClient(\"mongodb+srv://<username>:<password>@nodeexpressprojects.ujirb.mongodb.net/?retryWrites=true&w=majority\")\n",
    "db = client_cloud.test"
   ]
  },
  {
   "cell_type": "code",
   "execution_count": 9,
   "id": "50d49435",
   "metadata": {},
   "outputs": [
    {
     "data": {
      "text/plain": [
       "Database(MongoClient(host=['localhost:27017'], document_class=dict, tz_aware=False, connect=True), 'aashishDB')"
      ]
     },
     "execution_count": 9,
     "metadata": {},
     "output_type": "execute_result"
    }
   ],
   "source": [
    "#to create a database\n",
    "db_1 = client_local['aashishDB']\n",
    "db_1"
   ]
  },
  {
   "cell_type": "code",
   "execution_count": 10,
   "id": "a3146be0",
   "metadata": {},
   "outputs": [
    {
     "data": {
      "text/plain": [
       "['admin', 'config', 'local']"
      ]
     },
     "execution_count": 10,
     "metadata": {},
     "output_type": "execute_result"
    }
   ],
   "source": [
    "#to se existing DBs\n",
    "\n",
    "client_local.list_database_names()"
   ]
  },
  {
   "cell_type": "code",
   "execution_count": 11,
   "id": "e7dc5988",
   "metadata": {},
   "outputs": [
    {
     "data": {
      "text/plain": [
       "['03-Task_manager',\n",
       " '04-STORE-API',\n",
       " '06-JOBS-API',\n",
       " '07-FILE-UPLOAD',\n",
       " 'PRACT-APP',\n",
       " 'PRACT-APP2',\n",
       " 'Store-Dummy',\n",
       " 'admin',\n",
       " 'local']"
      ]
     },
     "execution_count": 11,
     "metadata": {},
     "output_type": "execute_result"
    }
   ],
   "source": [
    "client_cloud.list_database_names()"
   ]
  },
  {
   "cell_type": "code",
   "execution_count": 16,
   "id": "01cf3b11",
   "metadata": {},
   "outputs": [
    {
     "data": {
      "text/plain": [
       "<pymongo.results.InsertOneResult at 0x1a3a9fa2c40>"
      ]
     },
     "execution_count": 16,
     "metadata": {},
     "output_type": "execute_result"
    }
   ],
   "source": [
    "#to insert record into database\n",
    "\n",
    "#first create the collection\n",
    "collection = db_1['test']\n",
    "\n",
    "record = {'name':'Aashish', \n",
    "            'role':'ML Engineer',\n",
    "            'company':'Apple'}\n",
    "                \n",
    "#now insert record in created collection\n",
    "collection.insert_one(record)                "
   ]
  },
  {
   "cell_type": "code",
   "execution_count": 19,
   "id": "dbdbbc55",
   "metadata": {},
   "outputs": [
    {
     "data": {
      "text/plain": [
       "<pymongo.results.InsertManyResult at 0x1a3a9ef7a30>"
      ]
     },
     "execution_count": 19,
     "metadata": {},
     "output_type": "execute_result"
    }
   ],
   "source": [
    "#insert many records at once\n",
    "record = [\n",
    "    {'name':'Radhey', \n",
    "            'role':'Java Developer',\n",
    "            'company':'Oracle'},\n",
    "    {'name':'Aman', \n",
    "            'role':'Full Stack Developer',\n",
    "            'company':'Amazon'},\n",
    "    {'name':'Akash', \n",
    "            'role':'Front-End Developer',\n",
    "            'company':'Google'},\n",
    "    {'name':'Sudhir', \n",
    "      'id' : 2},\n",
    "    {'name':'Ritesh', \n",
    "      'id' : 3},\n",
    "    {'name':'Amit', \n",
    "      'id' : 6},\n",
    "    {'name':'Ankit', \n",
    "      'id' : 10},\n",
    "    \n",
    "]\n",
    "collection.insert_many(record)       "
   ]
  },
  {
   "cell_type": "code",
   "execution_count": 18,
   "id": "220e6dd6",
   "metadata": {},
   "outputs": [
    {
     "name": "stdout",
     "output_type": "stream",
     "text": [
      "{'_id': ObjectId('63d67c691e8c1f241b9b6653'), 'name': 'Aman', 'role': 'Full Stack Developer', 'company': 'Amazon'}\n"
     ]
    }
   ],
   "source": [
    "#query or filter out data\n",
    "fltr = collection.find({'role' : 'Full Stack Developer'}) \n",
    "for i in fltr:\n",
    "    print(i)"
   ]
  },
  {
   "cell_type": "code",
   "execution_count": 20,
   "id": "7aeaae39",
   "metadata": {},
   "outputs": [
    {
     "name": "stdout",
     "output_type": "stream",
     "text": [
      "{'_id': ObjectId('63d67efd1e8c1f241b9b665a'), 'name': 'Amit', 'id': 6}\n",
      "{'_id': ObjectId('63d67efd1e8c1f241b9b665b'), 'name': 'Ankit', 'id': 10}\n"
     ]
    }
   ],
   "source": [
    "fltr2 = collection.find({'id' : {'$gt' : 4}}) #id greater than 4\n",
    "for i in fltr2:\n",
    "    print(i)"
   ]
  },
  {
   "cell_type": "code",
   "execution_count": 22,
   "id": "b27c8818",
   "metadata": {},
   "outputs": [
    {
     "data": {
      "text/plain": [
       "<pymongo.results.DeleteResult at 0x1a3a94140d0>"
      ]
     },
     "execution_count": 22,
     "metadata": {},
     "output_type": "execute_result"
    }
   ],
   "source": [
    "#to delete records \n",
    "to_delete = {'id' : {'$lte':3}}\n",
    "collection.delete_many(to_delete)"
   ]
  },
  {
   "cell_type": "code",
   "execution_count": null,
   "id": "6074b0ca",
   "metadata": {},
   "outputs": [],
   "source": [
    "#to drop a collection\n",
    "collection.drop()"
   ]
  },
  {
   "cell_type": "code",
   "execution_count": 24,
   "id": "cded0cf2",
   "metadata": {},
   "outputs": [
    {
     "data": {
      "text/plain": [
       "<pymongo.results.UpdateResult at 0x1a3a937d670>"
      ]
     },
     "execution_count": 24,
     "metadata": {},
     "output_type": "execute_result"
    }
   ],
   "source": [
    "# to update an existing record\n",
    "existing_data = {'company' : 'Apple'}\n",
    "new_data = {'$set' : {'role' : 'Data Scientist'}}\n",
    "\n",
    "collection.update_one(existing_data,new_data)"
   ]
  },
  {
   "cell_type": "code",
   "execution_count": null,
   "id": "9fd74ec2",
   "metadata": {},
   "outputs": [],
   "source": []
  }
 ],
 "metadata": {
  "kernelspec": {
   "display_name": "Python 3 (ipykernel)",
   "language": "python",
   "name": "python3"
  },
  "language_info": {
   "codemirror_mode": {
    "name": "ipython",
    "version": 3
   },
   "file_extension": ".py",
   "mimetype": "text/x-python",
   "name": "python",
   "nbconvert_exporter": "python",
   "pygments_lexer": "ipython3",
   "version": "3.8.0"
  }
 },
 "nbformat": 4,
 "nbformat_minor": 5
}
