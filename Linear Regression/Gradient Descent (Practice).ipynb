{
 "cells": [
  {
   "cell_type": "code",
   "execution_count": 1,
   "id": "f18a827c",
   "metadata": {},
   "outputs": [],
   "source": [
    "import matplotlib.pyplot as plt\n",
    "import pandas as pd\n",
    "import numpy as np"
   ]
  },
  {
   "cell_type": "code",
   "execution_count": 2,
   "id": "fcbb6335",
   "metadata": {},
   "outputs": [],
   "source": [
    "X = pd.read_csv('./Training Data/Linear_X_Train.csv').values\n",
    "Y = pd.read_csv('./Training Data/Linear_Y_Train.csv').values"
   ]
  },
  {
   "cell_type": "code",
   "execution_count": 3,
   "id": "e684776c",
   "metadata": {},
   "outputs": [
    {
     "data": {
      "text/plain": [
       "(array([[-0.28930742],\n",
       "        [-0.58880963],\n",
       "        [ 1.02750749],\n",
       "        ...,\n",
       "        [-0.30516366],\n",
       "        [ 1.67583291],\n",
       "        [-0.49175724]]),\n",
       " array([[-9.11011171e-02],\n",
       "        [-5.34677208e+01],\n",
       "        [ 7.54570088e+01],\n",
       "        ...,\n",
       "        [-3.49832749e+01],\n",
       "        [ 1.45206092e+02],\n",
       "        [-1.71244939e+01]]))"
      ]
     },
     "execution_count": 3,
     "metadata": {},
     "output_type": "execute_result"
    }
   ],
   "source": [
    "X,Y"
   ]
  },
  {
   "cell_type": "code",
   "execution_count": 4,
   "id": "f40fb45d",
   "metadata": {},
   "outputs": [],
   "source": [
    "#normalise x\n",
    "u = X.mean()\n",
    "sd = X.std()\n",
    "X = X-u/sd"
   ]
  },
  {
   "cell_type": "code",
   "execution_count": 6,
   "id": "037369e3",
   "metadata": {},
   "outputs": [
    {
     "data": {
      "text/plain": [
       "<matplotlib.collections.PathCollection at 0x1393a5ccbb0>"
      ]
     },
     "execution_count": 6,
     "metadata": {},
     "output_type": "execute_result"
    },
    {
     "data": {
      "image/png": "[encoded data removed]",
      "text/plain": [
       "<Figure size 576x396 with 1 Axes>"
      ]
     },
     "metadata": {},
     "output_type": "display_data"
    }
   ],
   "source": [
    "#visulaise dataset\n",
    "plt.style.use('seaborn')\n",
    "plt.scatter(X,Y)"
   ]
  },
  {
   "cell_type": "code",
   "execution_count": 12,
   "id": "5eb5daf7",
   "metadata": {},
   "outputs": [],
   "source": [
    "def hypothesis(x,theta):\n",
    "    #theta = [theta0,theta1]\n",
    "    y_ = theta[0] + theta[1]*x\n",
    "    return y_\n",
    "\n",
    "def gradient(X,Y,theta):\n",
    "    grad = np.zeros((2,))\n",
    "    m = X.shape[0]\n",
    "    for i in range(m):\n",
    "        x = X[i]\n",
    "        y = Y[i]\n",
    "        y_ = hypothesis(x,theta)\n",
    "        grad[0] += (y_ - y)\n",
    "        grad[1] += (y_ - y)*x\n",
    "    return grad/m\n",
    "\n",
    "def error(X,Y,theta):\n",
    "    total_error = 0.0\n",
    "    m = X.shape[0]\n",
    "    \n",
    "    for i in range(m):\n",
    "        x = X[i]\n",
    "        y = Y[i]\n",
    "        y_ = hypothesis(x,theta)\n",
    "        total_error += (y_ - y)**2\n",
    "    return total_error/m    \n",
    "\n",
    "def gradient_descent(X,Y,max_steps = 100,learning_rate = 0.1):\n",
    "    theta = np.zeros((2,))\n",
    "    error_list = []\n",
    "    for i in range(max_steps):\n",
    "        e = error(X,Y,theta)\n",
    "        error_list.append(e)\n",
    "        grad = gradient(X,Y,theta)\n",
    "        theta[0] = theta[0] - learning_rate*grad[0]\n",
    "        theta[1] = theta[1] - learning_rate*grad[1]\n",
    "    return theta,error_list    "
   ]
  },
  {
   "cell_type": "code",
   "execution_count": 13,
   "id": "4cecb232",
   "metadata": {},
   "outputs": [],
   "source": [
    "theta,error_list = gradient_descent(X,Y)"
   ]
  },
  {
   "cell_type": "code",
   "execution_count": 14,
   "id": "9df323e9",
   "metadata": {},
   "outputs": [
    {
     "data": {
      "text/plain": [
       "array([ 0.65955779, 80.54108304])"
      ]
     },
     "execution_count": 14,
     "metadata": {},
     "output_type": "execute_result"
    }
   ],
   "source": [
    "theta"
   ]
  },
  {
   "cell_type": "code",
   "execution_count": 15,
   "id": "361d33c3",
   "metadata": {},
   "outputs": [
    {
     "data": {
      "text/plain": [
       "[array([6576.35005246]),\n",
       " array([5381.26741872]),\n",
       " array([4409.85503075]),\n",
       " array([3620.25102367]),\n",
       " array([2978.42835231]),\n",
       " array([2456.72843485]),\n",
       " array([2032.6692382]),\n",
       " array([1687.97644084]),\n",
       " array([1407.79592221]),\n",
       " array([1180.05364169]),\n",
       " array([994.93532204]),\n",
       " array([844.46351458]),\n",
       " array([722.15382049]),\n",
       " array([622.73545331]),\n",
       " array([541.92410066]),\n",
       " array([476.23729689]),\n",
       " array([422.84435039]),\n",
       " array([379.44435834]),\n",
       " array([344.16705206]),\n",
       " array([315.49220005]),\n",
       " array([292.18409544]),\n",
       " array([273.23830472]),\n",
       " array([257.83838287]),\n",
       " array([245.32068971]),\n",
       " array([235.14579109]),\n",
       " array([226.87521269]),\n",
       " array([220.15254446]),\n",
       " array([214.6880816]),\n",
       " array([210.24634007]),\n",
       " array([206.63590873]),\n",
       " array([203.70120069]),\n",
       " array([201.31574851]),\n",
       " array([199.3767542]),\n",
       " array([197.80065932]),\n",
       " array([196.51954412]),\n",
       " array([195.47820062]),\n",
       " array([194.63175347]),\n",
       " array([193.94372615]),\n",
       " array([193.38446903]),\n",
       " array([192.92988166]),\n",
       " array([192.5603742]),\n",
       " array([192.26002321]),\n",
       " array([192.01588547]),\n",
       " array([191.81744019]),\n",
       " array([191.65613563]),\n",
       " array([191.52502059]),\n",
       " array([191.41844485]),\n",
       " array([191.33181566]),\n",
       " array([191.26139986]),\n",
       " array([191.20416297]),\n",
       " array([191.15763845]),\n",
       " array([191.11982139]),\n",
       " array([191.08908211]),\n",
       " array([191.06409595]),\n",
       " array([191.04378616]),\n",
       " array([191.02727752]),\n",
       " array([191.01385861]),\n",
       " array([191.00295116]),\n",
       " array([190.99408513]),\n",
       " array([190.98687846]),\n",
       " array([190.98102057]),\n",
       " array([190.97625904]),\n",
       " array([190.97238867]),\n",
       " array([190.96924267]),\n",
       " array([190.96668547]),\n",
       " array([190.96460687]),\n",
       " array([190.9629173]),\n",
       " array([190.96154394]),\n",
       " array([190.96042762]),\n",
       " array([190.95952023]),\n",
       " array([190.95878267]),\n",
       " array([190.95818315]),\n",
       " array([190.95769583]),\n",
       " array([190.95729972]),\n",
       " array([190.95697774]),\n",
       " array([190.95671602]),\n",
       " array([190.95650329]),\n",
       " array([190.95633037]),\n",
       " array([190.95618982]),\n",
       " array([190.95607557]),\n",
       " array([190.9559827]),\n",
       " array([190.95590721]),\n",
       " array([190.95584586]),\n",
       " array([190.95579598]),\n",
       " array([190.95575544]),\n",
       " array([190.95572249]),\n",
       " array([190.9556957]),\n",
       " array([190.95567393]),\n",
       " array([190.95565623]),\n",
       " array([190.95564185]),\n",
       " array([190.95563016]),\n",
       " array([190.95562065]),\n",
       " array([190.95561293]),\n",
       " array([190.95560665]),\n",
       " array([190.95560154]),\n",
       " array([190.95559739]),\n",
       " array([190.95559402]),\n",
       " array([190.95559128]),\n",
       " array([190.95558905]),\n",
       " array([190.95558724])]"
      ]
     },
     "execution_count": 15,
     "metadata": {},
     "output_type": "execute_result"
    }
   ],
   "source": [
    "error_list"
   ]
  },
  {
   "cell_type": "code",
   "execution_count": 16,
   "id": "86ead980",
   "metadata": {},
   "outputs": [
    {
     "data": {
      "text/plain": [
       "[<matplotlib.lines.Line2D at 0x1393c221cd0>]"
      ]
     },
     "execution_count": 16,
     "metadata": {},
     "output_type": "execute_result"
    },
    {
     "data": {
      "image/png": "[encoded data removed]",
      "text/plain": [
       "<Figure size 576x396 with 1 Axes>"
      ]
     },
     "metadata": {},
     "output_type": "display_data"
    }
   ],
   "source": [
    "plt.plot(error_list)"
   ]
  },
  {
   "cell_type": "code",
   "execution_count": 17,
   "id": "54d2d067",
   "metadata": {},
   "outputs": [],
   "source": [
    "X_test = pd.read_csv('./Test Data/Linear_X_Test.csv').values"
   ]
  },
  {
   "cell_type": "code",
   "execution_count": 18,
   "id": "8afaf2eb",
   "metadata": {},
   "outputs": [
    {
     "data": {
      "text/plain": [
       "array([[-150.5921192 ],\n",
       "       [ -69.33321391],\n",
       "       [-203.12407497],\n",
       "       ...,\n",
       "       [  10.96944634],\n",
       "       [ -21.73389081],\n",
       "       [ -54.14264314]])"
      ]
     },
     "execution_count": 18,
     "metadata": {},
     "output_type": "execute_result"
    }
   ],
   "source": [
    "Y_test = hypothesis(X_test,theta)\n",
    "Y_test"
   ]
  },
  {
   "cell_type": "code",
   "execution_count": null,
   "id": "37a31173",
   "metadata": {},
   "outputs": [],
   "source": []
  }
 ],
 "metadata": {
  "kernelspec": {
   "display_name": "Python 3 (ipykernel)",
   "language": "python",
   "name": "python3"
  },
  "language_info": {
   "codemirror_mode": {
    "name": "ipython",
    "version": 3
   },
   "file_extension": ".py",
   "mimetype": "text/x-python",
   "name": "python",
   "nbconvert_exporter": "python",
   "pygments_lexer": "ipython3",
   "version": "3.8.0"
  }
 },
 "nbformat": 4,
 "nbformat_minor": 5
}
