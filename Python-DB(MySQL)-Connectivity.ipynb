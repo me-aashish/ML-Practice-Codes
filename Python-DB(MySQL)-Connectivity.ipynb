{
 "cells": [
  {
   "cell_type": "code",
   "execution_count": 1,
   "id": "e510fafe",
   "metadata": {},
   "outputs": [],
   "source": [
    "import mysql.connector as connection"
   ]
  },
  {
   "cell_type": "code",
   "execution_count": 3,
   "id": "0f6e7476",
   "metadata": {},
   "outputs": [],
   "source": [
    "#show existing dbs\n",
    "try:\n",
    "    conn = connection.connect(host = 'localhost', user = 'root', passwd = 'mysql', use_pure = True)\n",
    "    cursor = conn.cursor()\n",
    "    cursor.execute('show databases')\n",
    "    print(cursor.fetchall())\n",
    "    \n",
    "except Exception as e:\n",
    "    conn.close()\n",
    "    print(str(e))"
   ]
  },
  {
   "cell_type": "code",
   "execution_count": 7,
   "id": "65492e7d",
   "metadata": {},
   "outputs": [
    {
     "name": "stdout",
     "output_type": "stream",
     "text": [
      "db created!!\n"
     ]
    }
   ],
   "source": [
    "#to create a new db\n",
    "try:\n",
    "    conn = connection.connect(host = 'localhost', user = 'root', passwd = 'mysql', use_pure = True)\n",
    "    cursor = conn.cursor()\n",
    "    cursor.execute('create database aashish123')\n",
    "    print('db created!!')\n",
    "    \n",
    "except Exception as e:\n",
    "    conn.close()\n",
    "    print(str(e))"
   ]
  },
  {
   "cell_type": "code",
   "execution_count": 11,
   "id": "7be18b01",
   "metadata": {},
   "outputs": [
    {
     "name": "stdout",
     "output_type": "stream",
     "text": [
      "True\n",
      "Table Created!!\n"
     ]
    }
   ],
   "source": [
    "#to create a new table\n",
    "try:\n",
    "    conn = connection.connect(host=\"localhost\", database = 'aashish123',user=\"root\", passwd=\"mysql\",use_pure=True)\n",
    "    # check if the connection is established\n",
    "    print(conn.is_connected())\n",
    "\n",
    "    query = \"CREATE TABLE StudentDetails (Studentid INT(10) AUTO_INCREMENT PRIMARY KEY,FirstName VARCHAR(60),\" \\\n",
    "            \"LastName VARCHAR(60), RegistrationDate DATE,Class Varchar(20), Section Varchar(10))\"\n",
    "\n",
    "    cursor = conn.cursor() #create a cursor to execute queries\n",
    "    cursor.execute(query)\n",
    "    print(\"Table Created!!\")\n",
    "    conn.close()\n",
    "except Exception as e:\n",
    "    conn.close()\n",
    "    print(str(e))"
   ]
  },
  {
   "cell_type": "code",
   "execution_count": 18,
   "id": "0a46496e",
   "metadata": {},
   "outputs": [
    {
     "name": "stdout",
     "output_type": "stream",
     "text": [
      "True\n",
      "Value inserted!!\n"
     ]
    }
   ],
   "source": [
    "#to create a new table\n",
    "try:\n",
    "    conn = connection.connect(host=\"localhost\", database = 'aashish123',user=\"root\", passwd=\"mysql\",use_pure=True)\n",
    "    # check if the connection is established\n",
    "    print(conn.is_connected())\n",
    "\n",
    "#     query = \"INSERT INTO StudentDetails VALUES ('1132','Sachin','Kumar','1997-11-11','Eleventh','A')\"\n",
    "    cursor = conn.cursor() #create a cursor to execute queries\n",
    "#     cursor.execute(query)\n",
    "    cursor.execute(\"INSERT INTO StudentDetails VALUES ('1133','Aashish','Kumar','1997-11-9','Tenth','B')\")\n",
    "    cursor.execute(\"INSERT INTO StudentDetails VALUES ('1134','Aman','Kumar','1997-10-2','Nintth','C')\")\n",
    "    print(\"Value inserted!!\")\n",
    "    conn.commit() #without using this .commit() value will not be inserted into the table\n",
    "    conn.close()\n",
    "except Exception as e:\n",
    "    conn.close()\n",
    "    print(str(e))"
   ]
  },
  {
   "cell_type": "code",
   "execution_count": 20,
   "id": "f1e89d3d",
   "metadata": {},
   "outputs": [
    {
     "name": "stdout",
     "output_type": "stream",
     "text": [
      "True\n",
      "(1132, 'Sachin', 'Kumar', datetime.date(1997, 11, 11), 'Eleventh', 'A')\n",
      "(1133, 'Aashish', 'Kumar', datetime.date(1997, 11, 9), 'Tenth', 'B')\n",
      "(1134, 'Aman', 'Kumar', datetime.date(1997, 10, 2), 'Nintth', 'C')\n"
     ]
    }
   ],
   "source": [
    "#to fetch records from table\n",
    "try:\n",
    "    conn = connection.connect(host=\"localhost\", database = 'aashish123',user=\"root\", passwd=\"mysql\",use_pure=True)\n",
    "    # check if the connection is established\n",
    "    print(conn.is_connected())\n",
    "\n",
    "    query = \"select * from studentdetails\"\n",
    "\n",
    "    cursor = conn.cursor() #create a cursor to execute queries\n",
    "    cursor.execute(query)\n",
    "    for result in cursor.fetchall():\n",
    "        print(result)\n",
    "    conn.close()\n",
    "except Exception as e:\n",
    "    conn.close()\n",
    "    print(str(e))"
   ]
  },
  {
   "cell_type": "code",
   "execution_count": 24,
   "id": "8234cfc1",
   "metadata": {},
   "outputs": [
    {
     "name": "stdout",
     "output_type": "stream",
     "text": [
      "True\n"
     ]
    }
   ],
   "source": [
    "#to show data present in table in pandas dataframe format\n",
    "import pandas as pd\n",
    "try:\n",
    "    conn = connection.connect(host=\"localhost\", database = 'aashish123',user=\"root\", passwd=\"mysql\",use_pure=True)\n",
    "    # check if the connection is established\n",
    "    print(conn.is_connected())\n",
    "\n",
    "    query = \"select * from studentdetails\"\n",
    "\n",
    "    cursor = conn.cursor() #create a cursor to execute queries\n",
    "    sql_df = pd.read_sql(query,conn)\n",
    "    conn.close()\n",
    "except Exception as e:\n",
    "    conn.close()\n",
    "    print(str(e))"
   ]
  },
  {
   "cell_type": "code",
   "execution_count": 25,
   "id": "a1f7a1be",
   "metadata": {},
   "outputs": [
    {
     "data": {
      "text/html": [
       "<div>\n",
       "<style scoped>\n",
       "    .dataframe tbody tr th:only-of-type {\n",
       "        vertical-align: middle;\n",
       "    }\n",
       "\n",
       "    .dataframe tbody tr th {\n",
       "        vertical-align: top;\n",
       "    }\n",
       "\n",
       "    .dataframe thead th {\n",
       "        text-align: right;\n",
       "    }\n",
       "</style>\n",
       "<table border=\"1\" class=\"dataframe\">\n",
       "  <thead>\n",
       "    <tr style=\"text-align: right;\">\n",
       "      <th></th>\n",
       "      <th>Studentid</th>\n",
       "      <th>FirstName</th>\n",
       "      <th>LastName</th>\n",
       "      <th>RegistrationDate</th>\n",
       "      <th>Class</th>\n",
       "      <th>Section</th>\n",
       "    </tr>\n",
       "  </thead>\n",
       "  <tbody>\n",
       "    <tr>\n",
       "      <th>0</th>\n",
       "      <td>1132</td>\n",
       "      <td>Sachin</td>\n",
       "      <td>Kumar</td>\n",
       "      <td>1997-11-11</td>\n",
       "      <td>Eleventh</td>\n",
       "      <td>A</td>\n",
       "    </tr>\n",
       "    <tr>\n",
       "      <th>1</th>\n",
       "      <td>1133</td>\n",
       "      <td>Aashish</td>\n",
       "      <td>Kumar</td>\n",
       "      <td>1997-11-09</td>\n",
       "      <td>Tenth</td>\n",
       "      <td>B</td>\n",
       "    </tr>\n",
       "    <tr>\n",
       "      <th>2</th>\n",
       "      <td>1134</td>\n",
       "      <td>Aman</td>\n",
       "      <td>Kumar</td>\n",
       "      <td>1997-10-02</td>\n",
       "      <td>Nintth</td>\n",
       "      <td>C</td>\n",
       "    </tr>\n",
       "  </tbody>\n",
       "</table>\n",
       "</div>"
      ],
      "text/plain": [
       "   Studentid FirstName LastName RegistrationDate     Class Section\n",
       "0       1132    Sachin    Kumar       1997-11-11  Eleventh       A\n",
       "1       1133   Aashish    Kumar       1997-11-09     Tenth       B\n",
       "2       1134      Aman    Kumar       1997-10-02    Nintth       C"
      ]
     },
     "execution_count": 25,
     "metadata": {},
     "output_type": "execute_result"
    }
   ],
   "source": [
    "sql_df"
   ]
  },
  {
   "cell_type": "code",
   "execution_count": null,
   "id": "f300a53b",
   "metadata": {},
   "outputs": [],
   "source": []
  }
 ],
 "metadata": {
  "kernelspec": {
   "display_name": "Python 3 (ipykernel)",
   "language": "python",
   "name": "python3"
  },
  "language_info": {
   "codemirror_mode": {
    "name": "ipython",
    "version": 3
   },
   "file_extension": ".py",
   "mimetype": "text/x-python",
   "name": "python",
   "nbconvert_exporter": "python",
   "pygments_lexer": "ipython3",
   "version": "3.8.0"
  }
 },
 "nbformat": 4,
 "nbformat_minor": 5
}
